{
 "cells": [
  {
   "cell_type": "markdown",
   "id": "fc1dcb54",
   "metadata": {},
   "source": [
    "#### **I. IMPORT THƯ VIỆN VÀ DỮ LIỆU**"
   ]
  },
  {
   "cell_type": "markdown",
   "id": "5f653e3d",
   "metadata": {},
   "source": [
    "**1.1. Import thư viện**"
   ]
  },
  {
   "cell_type": "code",
   "execution_count": null,
   "id": "d62195ab",
   "metadata": {},
   "outputs": [],
   "source": [
    "import pandas as pd\n",
    "import numpy as np\n",
    "from datetime import datetime"
   ]
  },
  {
   "cell_type": "markdown",
   "id": "ccfef6d3",
   "metadata": {},
   "source": [
    "**1.2. Import dữ liệu**"
   ]
  },
  {
   "cell_type": "code",
   "execution_count": null,
   "id": "ebdfd36c",
   "metadata": {},
   "outputs": [],
   "source": [
    "df = pd.read_excel('data.xlsx')"
   ]
  },
  {
   "cell_type": "markdown",
   "id": "d08f0910",
   "metadata": {},
   "source": [
    "#### **II. XỬ LÝ VÀ LÀM SẠCH DỮ LIỆU**"
   ]
  },
  {
   "cell_type": "markdown",
   "id": "732ab003",
   "metadata": {},
   "source": [
    "**2.1. Xử lý dữ liệu bị thiếu**"
   ]
  },
  {
   "cell_type": "code",
   "execution_count": null,
   "id": "77ad8d60",
   "metadata": {},
   "outputs": [],
   "source": [
    "# Kiểm tra dữ liệu \n",
    "df.isnull().sum()"
   ]
  },
  {
   "cell_type": "code",
   "execution_count": null,
   "id": "86c69314",
   "metadata": {},
   "outputs": [],
   "source": [
    "# Điền \"United States\" đối với các dòng thiếu Country\n",
    "df['Country'] = df['Country'].fillna('United States')"
   ]
  },
  {
   "cell_type": "code",
   "execution_count": null,
   "id": "74c53f7b",
   "metadata": {},
   "outputs": [],
   "source": [
    "# Điền các dòng thiếu Profit Ratio theo công thức Profit Ratio = Profit/Sales\n",
    "\n",
    "\n",
    "# Xóa $, khoảng trắng, chuyển kiểu dữ liệu thành số nguyên để tính toán \n",
    "df['Profit'] = pd.to_numeric(df['Profit'].astype(str).str.replace('$', '', regex=False).str.replace(',', '', regex=False).str.strip(), errors='coerce')\n",
    "df['Sales'] = pd.to_numeric(df['Sales'].astype(str).str.replace('$', '', regex=False).str.replace(',', '', regex=False).str.strip(), errors='coerce')\n",
    "\n",
    "# Tính lại Profit Ratio cho các giá trị NaN\n",
    "df.loc[df['Profit Ratio'].isna(), 'Profit Ratio'] = df['Profit'] / df['Sales']\n"
   ]
  },
  {
   "cell_type": "code",
   "execution_count": null,
   "id": "9e4fd264",
   "metadata": {},
   "outputs": [],
   "source": [
    "# Xóa các dòng thiếu Manufacturer hoặc Product Name\n",
    "df.dropna(inplace=True)"
   ]
  },
  {
   "cell_type": "markdown",
   "id": "f1ffe05a",
   "metadata": {},
   "source": [
    "**2.2. Xử lý dữ liệu trùng lặp**"
   ]
  },
  {
   "cell_type": "code",
   "execution_count": null,
   "id": "1f93dde6",
   "metadata": {},
   "outputs": [],
   "source": [
    "# Xóa các dòng trùng lặp\n",
    "df.drop_duplicates(inplace=True)"
   ]
  },
  {
   "cell_type": "markdown",
   "id": "2c1ef23d",
   "metadata": {},
   "source": [
    "**2.3 Xóa cột không cần thiết**"
   ]
  },
  {
   "cell_type": "code",
   "execution_count": null,
   "id": "cacf146c",
   "metadata": {},
   "outputs": [],
   "source": [
    "df['Number of Records'].value_counts()      # Kiểm tra giá trị cột Number of Records"
   ]
  },
  {
   "cell_type": "code",
   "execution_count": null,
   "id": "596556f3",
   "metadata": {},
   "outputs": [],
   "source": [
    "df.drop('Number of Records', axis=1, inplace=True)      # Number of Records (Số lượng bản ghi) chỉ toàn là 1 nên không cần thiết giữ lại"
   ]
  },
  {
   "cell_type": "markdown",
   "id": "bd89fc40",
   "metadata": {},
   "source": [
    "**2.3. Kiểm tra lại dữ liệu**"
   ]
  },
  {
   "cell_type": "code",
   "execution_count": null,
   "id": "017e6a22",
   "metadata": {},
   "outputs": [],
   "source": [
    "df.head()"
   ]
  },
  {
   "cell_type": "code",
   "execution_count": null,
   "id": "a1703514",
   "metadata": {},
   "outputs": [],
   "source": [
    "df.isnull().sum()"
   ]
  },
  {
   "cell_type": "code",
   "execution_count": null,
   "id": "89cece14",
   "metadata": {},
   "outputs": [],
   "source": [
    "# Kiểm tra kiểu dữ liệu\n",
    "df.dtypes"
   ]
  },
  {
   "cell_type": "markdown",
   "id": "deab2ddd",
   "metadata": {},
   "source": [
    "#### **III. THÊM CỘT VÀO DF**"
   ]
  },
  {
   "cell_type": "markdown",
   "id": "9f2a5995",
   "metadata": {},
   "source": [
    "**3.1. Thêm 2 cột Customer ID - Product ID**"
   ]
  },
  {
   "cell_type": "code",
   "execution_count": null,
   "id": "921013dc",
   "metadata": {},
   "outputs": [],
   "source": [
    "df['Customer ID'] = df['Customer Name'].factorize()[0] + 1               # mã hóa các giá trị duy nhất thành số nguyên\n",
    "df['Customer ID'] = df['Customer ID'].apply(lambda x: f\"C{x:04}\")        # luôn là kiểu Cxxxx"
   ]
  },
  {
   "cell_type": "code",
   "execution_count": null,
   "id": "05041f68",
   "metadata": {},
   "outputs": [],
   "source": [
    "df['Product ID'] = df['Product Name'].factorize()[0] + 1               # mã hóa các giá trị duy nhất thành số nguyên\n",
    "df['Product ID'] = df['Product ID'].apply(lambda x: f\"P{x:04}\")        # luôn là kiểu Cxxxx"
   ]
  },
  {
   "cell_type": "markdown",
   "id": "60c2795b",
   "metadata": {},
   "source": [
    "**3.2. Thêm cột Price**"
   ]
  },
  {
   "cell_type": "code",
   "execution_count": null,
   "id": "d5203639",
   "metadata": {},
   "outputs": [],
   "source": [
    "# Công thức: Price = Sales / [Quantity * (1 - Discount)]\n",
    "\n",
    "df['Price'] = round(df['Sales'] / (df['Quantity'] * (1 - df['Discount'])), 2)   # Chỉ lấy 2 chữ số thập phân"
   ]
  },
  {
   "cell_type": "markdown",
   "id": "4ff8ba52",
   "metadata": {},
   "source": [
    "**3.3. Thêm 3 cột: Year - Quarter - Month từ Order Date**"
   ]
  },
  {
   "cell_type": "code",
   "execution_count": null,
   "id": "17ef08a5",
   "metadata": {},
   "outputs": [],
   "source": [
    "df['Year'] = df['Order Date'].dt.year\n",
    "df['Month'] = df['Order Date'].dt.month\n",
    "df['Quarter'] = df['Order Date'].dt.quarter"
   ]
  },
  {
   "cell_type": "markdown",
   "id": "156ae679",
   "metadata": {},
   "source": [
    "#### **IV. TÁCH BẢNG**"
   ]
  },
  {
   "cell_type": "code",
   "execution_count": null,
   "id": "cc5449cf",
   "metadata": {},
   "outputs": [],
   "source": [
    "sales = df[['Order ID', 'Customer ID', 'Product ID', 'Order Date', 'Ship Date', 'Ship Mode', 'Price', 'Quantity', 'Discount', 'Sales', 'Profit Ratio', 'Profit', 'Year', 'Quarter','Month']]"
   ]
  },
  {
   "cell_type": "code",
   "execution_count": null,
   "id": "f495c542",
   "metadata": {},
   "outputs": [],
   "source": [
    "customers = df[['Customer ID', 'Customer Name', 'Segment', 'City', 'State', 'Postal Code', 'Region']]\n",
    "customers.drop_duplicates(inplace=True)"
   ]
  },
  {
   "cell_type": "code",
   "execution_count": null,
   "id": "0c8203ea",
   "metadata": {},
   "outputs": [],
   "source": [
    "products = df[['Product ID', 'Product Name', 'Category', 'Sub-Category', 'Manufacturer']]\n",
    "products.drop_duplicates(inplace=True)"
   ]
  },
  {
   "cell_type": "markdown",
   "id": "c4102b95",
   "metadata": {},
   "source": [
    "#### **V. LƯU BẢNG VỀ MÁY**"
   ]
  },
  {
   "cell_type": "code",
   "execution_count": null,
   "id": "ca2253cc",
   "metadata": {},
   "outputs": [],
   "source": [
    "sales.to_csv('sales.csv', index=False)         # Không lưu chỉ mục\n",
    "customers.to_csv('customers.csv', index=False)\n",
    "products.to_csv('products.csv', index=False)"
   ]
  }
 ],
 "metadata": {
  "kernelspec": {
   "display_name": ".venv",
   "language": "python",
   "name": "python3"
  },
  "language_info": {
   "codemirror_mode": {
    "name": "ipython",
    "version": 3
   },
   "file_extension": ".py",
   "mimetype": "text/x-python",
   "name": "python",
   "nbconvert_exporter": "python",
   "pygments_lexer": "ipython3",
   "version": "3.12.9"
  }
 },
 "nbformat": 4,
 "nbformat_minor": 5
}
